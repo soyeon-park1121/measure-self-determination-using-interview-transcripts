{
  "nbformat": 4,
  "nbformat_minor": 0,
  "metadata": {
    "colab": {
      "name": "40-compare-rankings.ipynb",
      "provenance": [],
      "collapsed_sections": []
    },
    "kernelspec": {
      "name": "python3",
      "display_name": "Python 3"
    },
    "language_info": {
      "name": "python"
    }
  },
  "cells": [
    {
      "cell_type": "markdown",
      "source": [
        "In the previous notebook, we got rankings from 6 different methods. In this notebook, I am going to compare the 6 rankings and see how they are different by using Kendall Rank correlation."
      ],
      "metadata": {
        "id": "MoYNlk8ZZaP1"
      }
    },
    {
      "cell_type": "code",
      "execution_count": null,
      "metadata": {
        "id": "MZZzWicLgP-o"
      },
      "outputs": [],
      "source": [
        "import pandas as pd\n",
        "import numpy as np\n",
        "import math\n",
        "\n",
        "from scipy.stats import kendalltau"
      ]
    },
    {
      "cell_type": "code",
      "source": [
        "from google.colab import drive\n",
        "drive.mount('/content/drive')"
      ],
      "metadata": {
        "colab": {
          "base_uri": "https://localhost:8080/"
        },
        "id": "bV659gXugkN-",
        "outputId": "c4698209-916f-4b60-ca6a-a9894eb4bee4"
      },
      "execution_count": null,
      "outputs": [
        {
          "output_type": "stream",
          "name": "stdout",
          "text": [
            "Mounted at /content/drive\n"
          ]
        }
      ]
    },
    {
      "cell_type": "code",
      "source": [
        "# import data\n",
        "base_path = '/content/drive/MyDrive/Capstone Design/data/rankings/'\n",
        "no_sp_def = pd.read_csv(base_path + 'no_speaker_def_similarity.csv')\n",
        "no_sp_sit = pd.read_csv(base_path + 'no_speaker_sit_avg_similarity.csv')\n",
        "no_sp_word = pd.read_csv(base_path + 'no_speaker_word_similarity.csv')\n",
        "sp_def = pd.read_csv(base_path + 'speaker_def_similarity.csv')\n",
        "sp_sit = pd.read_csv(base_path + 'speaker_sit_avg_similarity.csv')\n",
        "sp_word = pd.read_csv(base_path + 'speaker_word_similarity.csv')"
      ],
      "metadata": {
        "id": "BQ01VM2aT46w"
      },
      "execution_count": null,
      "outputs": []
    },
    {
      "cell_type": "code",
      "source": [
        "no_sp_def"
      ],
      "metadata": {
        "colab": {
          "base_uri": "https://localhost:8080/",
          "height": 423
        },
        "id": "3HXYnPIZUm2G",
        "outputId": "9b68388a-4246-48d7-babf-aaf84233e4c5"
      },
      "execution_count": null,
      "outputs": [
        {
          "output_type": "execute_result",
          "data": {
            "text/plain": [
              "     Unnamed: 0                                           filename  \\\n",
              "0             0  3009_ Parent 12-Month Follow Up Interview_10.2...   \n",
              "1             1               1015_voc index_youth_08.24.2021.docx   \n",
              "2             2        3028_intro-SEA-and-VocIndex_04.19.2021.docx   \n",
              "3             3           3007_Parent-Interview-T3_10.04.2021.docx   \n",
              "4             4                     1057_voc index_11.22.2021.docx   \n",
              "..          ...                                                ...   \n",
              "288         288                     1043_voc index_06.07.2021.docx   \n",
              "289         289                      2063_VocIndex_07.16.2020.docx   \n",
              "290         290                     3021-Interview_07.15.2021.docx   \n",
              "291         291                     1052_voc index_06.04.2021.docx   \n",
              "292         292               2033_VocIndex-and-SA_07.09.2020.docx   \n",
              "\n",
              "     cosine_similarity               category  \n",
              "0             0.158969  no_speaker_transcript  \n",
              "1             0.116140  no_speaker_transcript  \n",
              "2             0.109426  no_speaker_transcript  \n",
              "3             0.107879  no_speaker_transcript  \n",
              "4             0.093194  no_speaker_transcript  \n",
              "..                 ...                    ...  \n",
              "288          -0.179990  no_speaker_transcript  \n",
              "289          -0.180370  no_speaker_transcript  \n",
              "290          -0.185466  no_speaker_transcript  \n",
              "291          -0.188686  no_speaker_transcript  \n",
              "292          -0.200878  no_speaker_transcript  \n",
              "\n",
              "[293 rows x 4 columns]"
            ],
            "text/html": [
              "\n",
              "  <div id=\"df-ffc02bf0-e90f-4031-936e-5ece1b987759\">\n",
              "    <div class=\"colab-df-container\">\n",
              "      <div>\n",
              "<style scoped>\n",
              "    .dataframe tbody tr th:only-of-type {\n",
              "        vertical-align: middle;\n",
              "    }\n",
              "\n",
              "    .dataframe tbody tr th {\n",
              "        vertical-align: top;\n",
              "    }\n",
              "\n",
              "    .dataframe thead th {\n",
              "        text-align: right;\n",
              "    }\n",
              "</style>\n",
              "<table border=\"1\" class=\"dataframe\">\n",
              "  <thead>\n",
              "    <tr style=\"text-align: right;\">\n",
              "      <th></th>\n",
              "      <th>Unnamed: 0</th>\n",
              "      <th>filename</th>\n",
              "      <th>cosine_similarity</th>\n",
              "      <th>category</th>\n",
              "    </tr>\n",
              "  </thead>\n",
              "  <tbody>\n",
              "    <tr>\n",
              "      <th>0</th>\n",
              "      <td>0</td>\n",
              "      <td>3009_ Parent 12-Month Follow Up Interview_10.2...</td>\n",
              "      <td>0.158969</td>\n",
              "      <td>no_speaker_transcript</td>\n",
              "    </tr>\n",
              "    <tr>\n",
              "      <th>1</th>\n",
              "      <td>1</td>\n",
              "      <td>1015_voc index_youth_08.24.2021.docx</td>\n",
              "      <td>0.116140</td>\n",
              "      <td>no_speaker_transcript</td>\n",
              "    </tr>\n",
              "    <tr>\n",
              "      <th>2</th>\n",
              "      <td>2</td>\n",
              "      <td>3028_intro-SEA-and-VocIndex_04.19.2021.docx</td>\n",
              "      <td>0.109426</td>\n",
              "      <td>no_speaker_transcript</td>\n",
              "    </tr>\n",
              "    <tr>\n",
              "      <th>3</th>\n",
              "      <td>3</td>\n",
              "      <td>3007_Parent-Interview-T3_10.04.2021.docx</td>\n",
              "      <td>0.107879</td>\n",
              "      <td>no_speaker_transcript</td>\n",
              "    </tr>\n",
              "    <tr>\n",
              "      <th>4</th>\n",
              "      <td>4</td>\n",
              "      <td>1057_voc index_11.22.2021.docx</td>\n",
              "      <td>0.093194</td>\n",
              "      <td>no_speaker_transcript</td>\n",
              "    </tr>\n",
              "    <tr>\n",
              "      <th>...</th>\n",
              "      <td>...</td>\n",
              "      <td>...</td>\n",
              "      <td>...</td>\n",
              "      <td>...</td>\n",
              "    </tr>\n",
              "    <tr>\n",
              "      <th>288</th>\n",
              "      <td>288</td>\n",
              "      <td>1043_voc index_06.07.2021.docx</td>\n",
              "      <td>-0.179990</td>\n",
              "      <td>no_speaker_transcript</td>\n",
              "    </tr>\n",
              "    <tr>\n",
              "      <th>289</th>\n",
              "      <td>289</td>\n",
              "      <td>2063_VocIndex_07.16.2020.docx</td>\n",
              "      <td>-0.180370</td>\n",
              "      <td>no_speaker_transcript</td>\n",
              "    </tr>\n",
              "    <tr>\n",
              "      <th>290</th>\n",
              "      <td>290</td>\n",
              "      <td>3021-Interview_07.15.2021.docx</td>\n",
              "      <td>-0.185466</td>\n",
              "      <td>no_speaker_transcript</td>\n",
              "    </tr>\n",
              "    <tr>\n",
              "      <th>291</th>\n",
              "      <td>291</td>\n",
              "      <td>1052_voc index_06.04.2021.docx</td>\n",
              "      <td>-0.188686</td>\n",
              "      <td>no_speaker_transcript</td>\n",
              "    </tr>\n",
              "    <tr>\n",
              "      <th>292</th>\n",
              "      <td>292</td>\n",
              "      <td>2033_VocIndex-and-SA_07.09.2020.docx</td>\n",
              "      <td>-0.200878</td>\n",
              "      <td>no_speaker_transcript</td>\n",
              "    </tr>\n",
              "  </tbody>\n",
              "</table>\n",
              "<p>293 rows × 4 columns</p>\n",
              "</div>\n",
              "      <button class=\"colab-df-convert\" onclick=\"convertToInteractive('df-ffc02bf0-e90f-4031-936e-5ece1b987759')\"\n",
              "              title=\"Convert this dataframe to an interactive table.\"\n",
              "              style=\"display:none;\">\n",
              "        \n",
              "  <svg xmlns=\"http://www.w3.org/2000/svg\" height=\"24px\"viewBox=\"0 0 24 24\"\n",
              "       width=\"24px\">\n",
              "    <path d=\"M0 0h24v24H0V0z\" fill=\"none\"/>\n",
              "    <path d=\"M18.56 5.44l.94 2.06.94-2.06 2.06-.94-2.06-.94-.94-2.06-.94 2.06-2.06.94zm-11 1L8.5 8.5l.94-2.06 2.06-.94-2.06-.94L8.5 2.5l-.94 2.06-2.06.94zm10 10l.94 2.06.94-2.06 2.06-.94-2.06-.94-.94-2.06-.94 2.06-2.06.94z\"/><path d=\"M17.41 7.96l-1.37-1.37c-.4-.4-.92-.59-1.43-.59-.52 0-1.04.2-1.43.59L10.3 9.45l-7.72 7.72c-.78.78-.78 2.05 0 2.83L4 21.41c.39.39.9.59 1.41.59.51 0 1.02-.2 1.41-.59l7.78-7.78 2.81-2.81c.8-.78.8-2.07 0-2.86zM5.41 20L4 18.59l7.72-7.72 1.47 1.35L5.41 20z\"/>\n",
              "  </svg>\n",
              "      </button>\n",
              "      \n",
              "  <style>\n",
              "    .colab-df-container {\n",
              "      display:flex;\n",
              "      flex-wrap:wrap;\n",
              "      gap: 12px;\n",
              "    }\n",
              "\n",
              "    .colab-df-convert {\n",
              "      background-color: #E8F0FE;\n",
              "      border: none;\n",
              "      border-radius: 50%;\n",
              "      cursor: pointer;\n",
              "      display: none;\n",
              "      fill: #1967D2;\n",
              "      height: 32px;\n",
              "      padding: 0 0 0 0;\n",
              "      width: 32px;\n",
              "    }\n",
              "\n",
              "    .colab-df-convert:hover {\n",
              "      background-color: #E2EBFA;\n",
              "      box-shadow: 0px 1px 2px rgba(60, 64, 67, 0.3), 0px 1px 3px 1px rgba(60, 64, 67, 0.15);\n",
              "      fill: #174EA6;\n",
              "    }\n",
              "\n",
              "    [theme=dark] .colab-df-convert {\n",
              "      background-color: #3B4455;\n",
              "      fill: #D2E3FC;\n",
              "    }\n",
              "\n",
              "    [theme=dark] .colab-df-convert:hover {\n",
              "      background-color: #434B5C;\n",
              "      box-shadow: 0px 1px 3px 1px rgba(0, 0, 0, 0.15);\n",
              "      filter: drop-shadow(0px 1px 2px rgba(0, 0, 0, 0.3));\n",
              "      fill: #FFFFFF;\n",
              "    }\n",
              "  </style>\n",
              "\n",
              "      <script>\n",
              "        const buttonEl =\n",
              "          document.querySelector('#df-ffc02bf0-e90f-4031-936e-5ece1b987759 button.colab-df-convert');\n",
              "        buttonEl.style.display =\n",
              "          google.colab.kernel.accessAllowed ? 'block' : 'none';\n",
              "\n",
              "        async function convertToInteractive(key) {\n",
              "          const element = document.querySelector('#df-ffc02bf0-e90f-4031-936e-5ece1b987759');\n",
              "          const dataTable =\n",
              "            await google.colab.kernel.invokeFunction('convertToInteractive',\n",
              "                                                     [key], {});\n",
              "          if (!dataTable) return;\n",
              "\n",
              "          const docLinkHtml = 'Like what you see? Visit the ' +\n",
              "            '<a target=\"_blank\" href=https://colab.research.google.com/notebooks/data_table.ipynb>data table notebook</a>'\n",
              "            + ' to learn more about interactive tables.';\n",
              "          element.innerHTML = '';\n",
              "          dataTable['output_type'] = 'display_data';\n",
              "          await google.colab.output.renderOutput(dataTable, element);\n",
              "          const docLink = document.createElement('div');\n",
              "          docLink.innerHTML = docLinkHtml;\n",
              "          element.appendChild(docLink);\n",
              "        }\n",
              "      </script>\n",
              "    </div>\n",
              "  </div>\n",
              "  "
            ]
          },
          "metadata": {},
          "execution_count": 5
        }
      ]
    },
    {
      "cell_type": "code",
      "source": [
        "no_sp_def_list = no_sp_def['filename'].tolist()\n",
        "no_sp_sit_list = no_sp_sit['filename'].tolist()\n",
        "no_sp_word_list = no_sp_word['filename'].tolist()\n",
        "sp_def_list = sp_def['filename'].tolist()\n",
        "sp_sit_list = sp_sit['filename'].tolist()\n",
        "sp_word_list = sp_word['filename'].tolist()"
      ],
      "metadata": {
        "id": "WJDN1bTFVPRy"
      },
      "execution_count": null,
      "outputs": []
    },
    {
      "cell_type": "code",
      "source": [
        "corr, _ = kendalltau(no_sp_def_list, no_sp_sit_list)\n",
        "print('Kendall Rank correlation: %.5f' % corr)"
      ],
      "metadata": {
        "colab": {
          "base_uri": "https://localhost:8080/"
        },
        "id": "nCLSTvjweU7h",
        "outputId": "b4564543-95e4-4a02-d8d9-fde7a0cb56d9"
      },
      "execution_count": null,
      "outputs": [
        {
          "output_type": "stream",
          "name": "stdout",
          "text": [
            "Kendall Rank correlation: -0.01590\n"
          ]
        }
      ]
    },
    {
      "cell_type": "code",
      "source": [
        "corr, _ = kendalltau(no_sp_def_list, no_sp_word_list)\n",
        "print('Kendall Rank correlation: %.5f' % corr)"
      ],
      "metadata": {
        "colab": {
          "base_uri": "https://localhost:8080/"
        },
        "id": "TS7KPGLYfLGb",
        "outputId": "c4da24ec-33c7-46e0-c48c-001f1c398ae5"
      },
      "execution_count": null,
      "outputs": [
        {
          "output_type": "stream",
          "name": "stdout",
          "text": [
            "Kendall Rank correlation: 0.01594\n"
          ]
        }
      ]
    },
    {
      "cell_type": "code",
      "source": [
        "corr, _ = kendalltau(no_sp_sit_list, no_sp_word_list)\n",
        "print('Kendall Rank correlation: %.5f' % corr)"
      ],
      "metadata": {
        "colab": {
          "base_uri": "https://localhost:8080/"
        },
        "id": "to1BontIfLMf",
        "outputId": "e176107b-3d43-4270-c633-92512dda432f"
      },
      "execution_count": null,
      "outputs": [
        {
          "output_type": "stream",
          "name": "stdout",
          "text": [
            "Kendall Rank correlation: -0.00271\n"
          ]
        }
      ]
    },
    {
      "cell_type": "code",
      "source": [
        "corr, _ = kendalltau(no_sp_def_list, sp_def_list)\n",
        "print('Kendall Rank correlation: %.5f' % corr)"
      ],
      "metadata": {
        "colab": {
          "base_uri": "https://localhost:8080/"
        },
        "id": "XCHNSXonfLXV",
        "outputId": "3f2c9672-2d95-4bd1-ab77-40a61288b1fa"
      },
      "execution_count": null,
      "outputs": [
        {
          "output_type": "stream",
          "name": "stdout",
          "text": [
            "Kendall Rank correlation: 0.03731\n"
          ]
        }
      ]
    },
    {
      "cell_type": "code",
      "source": [
        "corr, _ = kendalltau(no_sp_sit_list, sp_sit_list)\n",
        "print('Kendall Rank correlation: %.5f' % corr)"
      ],
      "metadata": {
        "colab": {
          "base_uri": "https://localhost:8080/"
        },
        "id": "FPxSzrY2erj2",
        "outputId": "a5606da3-e953-4446-f1b2-e0547a29d74a"
      },
      "execution_count": null,
      "outputs": [
        {
          "output_type": "stream",
          "name": "stdout",
          "text": [
            "Kendall Rank correlation: 0.01473\n"
          ]
        }
      ]
    },
    {
      "cell_type": "code",
      "source": [
        "corr, _ = kendalltau(no_sp_word_list, sp_word_list)\n",
        "print('Kendall Rank correlation: %.5f' % corr)"
      ],
      "metadata": {
        "colab": {
          "base_uri": "https://localhost:8080/"
        },
        "id": "V1leK1zEgAOZ",
        "outputId": "ad574683-13be-49e8-8993-e2a85dfaba72"
      },
      "execution_count": null,
      "outputs": [
        {
          "output_type": "stream",
          "name": "stdout",
          "text": [
            "Kendall Rank correlation: 0.02076\n"
          ]
        }
      ]
    },
    {
      "cell_type": "code",
      "source": [
        "corr, _ = kendalltau(sp_def_list, sp_sit_list)\n",
        "print('Kendall Rank correlation: %.5f' % corr)"
      ],
      "metadata": {
        "colab": {
          "base_uri": "https://localhost:8080/"
        },
        "id": "EYEupRW4guy-",
        "outputId": "a3da1d22-c9ee-48be-a157-b81c4465f094"
      },
      "execution_count": null,
      "outputs": [
        {
          "output_type": "stream",
          "name": "stdout",
          "text": [
            "Kendall Rank correlation: -0.00210\n"
          ]
        }
      ]
    },
    {
      "cell_type": "code",
      "source": [
        "corr, _ = kendalltau(sp_def_list, sp_word_list)\n",
        "print('Kendall Rank correlation: %.5f' % corr)"
      ],
      "metadata": {
        "colab": {
          "base_uri": "https://localhost:8080/"
        },
        "id": "3gyTtwUogu58",
        "outputId": "68ea5b98-c7fc-40ce-fc4d-9c4bbcb61a36"
      },
      "execution_count": null,
      "outputs": [
        {
          "output_type": "stream",
          "name": "stdout",
          "text": [
            "Kendall Rank correlation: -0.00631\n"
          ]
        }
      ]
    },
    {
      "cell_type": "code",
      "source": [
        "corr, _ = kendalltau(sp_sit_list, sp_word_list)\n",
        "print('Kendall Rank correlation: %.5f' % corr)"
      ],
      "metadata": {
        "colab": {
          "base_uri": "https://localhost:8080/"
        },
        "id": "nQk-qCJDgu8o",
        "outputId": "c754b583-5d9c-41d8-a994-d88287c05722"
      },
      "execution_count": null,
      "outputs": [
        {
          "output_type": "stream",
          "name": "stdout",
          "text": [
            "Kendall Rank correlation: -0.01566\n"
          ]
        }
      ]
    },
    {
      "cell_type": "markdown",
      "source": [
        "# Calculate the difference of cosine similairity "
      ],
      "metadata": {
        "id": "RTHKXQfnySZq"
      }
    },
    {
      "cell_type": "code",
      "source": [
        "no_sp_sit.head()"
      ],
      "metadata": {
        "colab": {
          "base_uri": "https://localhost:8080/",
          "height": 206
        },
        "id": "rZAGOkQByqgv",
        "outputId": "55d718db-6880-4040-e586-558f1ae0de90"
      },
      "execution_count": null,
      "outputs": [
        {
          "output_type": "execute_result",
          "data": {
            "text/plain": [
              "   Unnamed: 0                                           filename  \\\n",
              "0           0  3009_ Parent 12-Month Follow Up Interview_10.2...   \n",
              "1           1  3014_T2-Service-Access-and-VocIndex_05.18.2021...   \n",
              "2           2               1020_voc index youth_08.20.2021.docx   \n",
              "3           3             1027_Vineland_VocIndex_02.06.2020.docx   \n",
              "4           4                      1007_VocYouth_01.09.2020.docx   \n",
              "\n",
              "   cosine_similarity               category  \n",
              "0           0.319916  no_speaker_transcript  \n",
              "1           0.290562  no_speaker_transcript  \n",
              "2           0.290163  no_speaker_transcript  \n",
              "3           0.269671  no_speaker_transcript  \n",
              "4           0.250985  no_speaker_transcript  "
            ],
            "text/html": [
              "\n",
              "  <div id=\"df-9d119b73-25ad-4f5a-ac5a-6b9c6a80e51e\">\n",
              "    <div class=\"colab-df-container\">\n",
              "      <div>\n",
              "<style scoped>\n",
              "    .dataframe tbody tr th:only-of-type {\n",
              "        vertical-align: middle;\n",
              "    }\n",
              "\n",
              "    .dataframe tbody tr th {\n",
              "        vertical-align: top;\n",
              "    }\n",
              "\n",
              "    .dataframe thead th {\n",
              "        text-align: right;\n",
              "    }\n",
              "</style>\n",
              "<table border=\"1\" class=\"dataframe\">\n",
              "  <thead>\n",
              "    <tr style=\"text-align: right;\">\n",
              "      <th></th>\n",
              "      <th>Unnamed: 0</th>\n",
              "      <th>filename</th>\n",
              "      <th>cosine_similarity</th>\n",
              "      <th>category</th>\n",
              "    </tr>\n",
              "  </thead>\n",
              "  <tbody>\n",
              "    <tr>\n",
              "      <th>0</th>\n",
              "      <td>0</td>\n",
              "      <td>3009_ Parent 12-Month Follow Up Interview_10.2...</td>\n",
              "      <td>0.319916</td>\n",
              "      <td>no_speaker_transcript</td>\n",
              "    </tr>\n",
              "    <tr>\n",
              "      <th>1</th>\n",
              "      <td>1</td>\n",
              "      <td>3014_T2-Service-Access-and-VocIndex_05.18.2021...</td>\n",
              "      <td>0.290562</td>\n",
              "      <td>no_speaker_transcript</td>\n",
              "    </tr>\n",
              "    <tr>\n",
              "      <th>2</th>\n",
              "      <td>2</td>\n",
              "      <td>1020_voc index youth_08.20.2021.docx</td>\n",
              "      <td>0.290163</td>\n",
              "      <td>no_speaker_transcript</td>\n",
              "    </tr>\n",
              "    <tr>\n",
              "      <th>3</th>\n",
              "      <td>3</td>\n",
              "      <td>1027_Vineland_VocIndex_02.06.2020.docx</td>\n",
              "      <td>0.269671</td>\n",
              "      <td>no_speaker_transcript</td>\n",
              "    </tr>\n",
              "    <tr>\n",
              "      <th>4</th>\n",
              "      <td>4</td>\n",
              "      <td>1007_VocYouth_01.09.2020.docx</td>\n",
              "      <td>0.250985</td>\n",
              "      <td>no_speaker_transcript</td>\n",
              "    </tr>\n",
              "  </tbody>\n",
              "</table>\n",
              "</div>\n",
              "      <button class=\"colab-df-convert\" onclick=\"convertToInteractive('df-9d119b73-25ad-4f5a-ac5a-6b9c6a80e51e')\"\n",
              "              title=\"Convert this dataframe to an interactive table.\"\n",
              "              style=\"display:none;\">\n",
              "        \n",
              "  <svg xmlns=\"http://www.w3.org/2000/svg\" height=\"24px\"viewBox=\"0 0 24 24\"\n",
              "       width=\"24px\">\n",
              "    <path d=\"M0 0h24v24H0V0z\" fill=\"none\"/>\n",
              "    <path d=\"M18.56 5.44l.94 2.06.94-2.06 2.06-.94-2.06-.94-.94-2.06-.94 2.06-2.06.94zm-11 1L8.5 8.5l.94-2.06 2.06-.94-2.06-.94L8.5 2.5l-.94 2.06-2.06.94zm10 10l.94 2.06.94-2.06 2.06-.94-2.06-.94-.94-2.06-.94 2.06-2.06.94z\"/><path d=\"M17.41 7.96l-1.37-1.37c-.4-.4-.92-.59-1.43-.59-.52 0-1.04.2-1.43.59L10.3 9.45l-7.72 7.72c-.78.78-.78 2.05 0 2.83L4 21.41c.39.39.9.59 1.41.59.51 0 1.02-.2 1.41-.59l7.78-7.78 2.81-2.81c.8-.78.8-2.07 0-2.86zM5.41 20L4 18.59l7.72-7.72 1.47 1.35L5.41 20z\"/>\n",
              "  </svg>\n",
              "      </button>\n",
              "      \n",
              "  <style>\n",
              "    .colab-df-container {\n",
              "      display:flex;\n",
              "      flex-wrap:wrap;\n",
              "      gap: 12px;\n",
              "    }\n",
              "\n",
              "    .colab-df-convert {\n",
              "      background-color: #E8F0FE;\n",
              "      border: none;\n",
              "      border-radius: 50%;\n",
              "      cursor: pointer;\n",
              "      display: none;\n",
              "      fill: #1967D2;\n",
              "      height: 32px;\n",
              "      padding: 0 0 0 0;\n",
              "      width: 32px;\n",
              "    }\n",
              "\n",
              "    .colab-df-convert:hover {\n",
              "      background-color: #E2EBFA;\n",
              "      box-shadow: 0px 1px 2px rgba(60, 64, 67, 0.3), 0px 1px 3px 1px rgba(60, 64, 67, 0.15);\n",
              "      fill: #174EA6;\n",
              "    }\n",
              "\n",
              "    [theme=dark] .colab-df-convert {\n",
              "      background-color: #3B4455;\n",
              "      fill: #D2E3FC;\n",
              "    }\n",
              "\n",
              "    [theme=dark] .colab-df-convert:hover {\n",
              "      background-color: #434B5C;\n",
              "      box-shadow: 0px 1px 3px 1px rgba(0, 0, 0, 0.15);\n",
              "      filter: drop-shadow(0px 1px 2px rgba(0, 0, 0, 0.3));\n",
              "      fill: #FFFFFF;\n",
              "    }\n",
              "  </style>\n",
              "\n",
              "      <script>\n",
              "        const buttonEl =\n",
              "          document.querySelector('#df-9d119b73-25ad-4f5a-ac5a-6b9c6a80e51e button.colab-df-convert');\n",
              "        buttonEl.style.display =\n",
              "          google.colab.kernel.accessAllowed ? 'block' : 'none';\n",
              "\n",
              "        async function convertToInteractive(key) {\n",
              "          const element = document.querySelector('#df-9d119b73-25ad-4f5a-ac5a-6b9c6a80e51e');\n",
              "          const dataTable =\n",
              "            await google.colab.kernel.invokeFunction('convertToInteractive',\n",
              "                                                     [key], {});\n",
              "          if (!dataTable) return;\n",
              "\n",
              "          const docLinkHtml = 'Like what you see? Visit the ' +\n",
              "            '<a target=\"_blank\" href=https://colab.research.google.com/notebooks/data_table.ipynb>data table notebook</a>'\n",
              "            + ' to learn more about interactive tables.';\n",
              "          element.innerHTML = '';\n",
              "          dataTable['output_type'] = 'display_data';\n",
              "          await google.colab.output.renderOutput(dataTable, element);\n",
              "          const docLink = document.createElement('div');\n",
              "          docLink.innerHTML = docLinkHtml;\n",
              "          element.appendChild(docLink);\n",
              "        }\n",
              "      </script>\n",
              "    </div>\n",
              "  </div>\n",
              "  "
            ]
          },
          "metadata": {},
          "execution_count": 16
        }
      ]
    },
    {
      "cell_type": "code",
      "source": [
        "no_sp_sit_df = no_sp_sit.rename({'cosine_similarity': 'no_sp_cosine_similarity'}, axis = 1)"
      ],
      "metadata": {
        "id": "f0-aFqGIgu-3"
      },
      "execution_count": null,
      "outputs": []
    },
    {
      "cell_type": "code",
      "source": [
        "sp_sit_df = sp_sit.rename({'cosine_similarity': 'sp_cosine_similarity'}, axis = 1)"
      ],
      "metadata": {
        "id": "LjXCwaJFeaPe"
      },
      "execution_count": null,
      "outputs": []
    },
    {
      "cell_type": "code",
      "source": [
        "sp_sit_df = sp_sit_df.drop('category', axis = 1)"
      ],
      "metadata": {
        "id": "1vVpTc32y77Y"
      },
      "execution_count": null,
      "outputs": []
    },
    {
      "cell_type": "code",
      "source": [
        "sp_sit_df = sp_sit_df.drop('Unnamed: 0', axis = 1)"
      ],
      "metadata": {
        "id": "bjTxSFSOzBN5"
      },
      "execution_count": null,
      "outputs": []
    },
    {
      "cell_type": "code",
      "source": [
        "no_sp_sit_df = no_sp_sit_df.drop(['Unnamed: 0', 'category'], axis = 1)"
      ],
      "metadata": {
        "id": "FZm6GGEwzHqm"
      },
      "execution_count": null,
      "outputs": []
    },
    {
      "cell_type": "code",
      "source": [
        "no_sp_sit_df.head()"
      ],
      "metadata": {
        "colab": {
          "base_uri": "https://localhost:8080/",
          "height": 206
        },
        "id": "SHj_k-c9zPP9",
        "outputId": "2ba97f1f-76a4-4997-ef4d-30b26e0d3407"
      },
      "execution_count": null,
      "outputs": [
        {
          "output_type": "execute_result",
          "data": {
            "text/plain": [
              "                                            filename  no_sp_cosine_similarity\n",
              "0  3009_ Parent 12-Month Follow Up Interview_10.2...                 0.319916\n",
              "1  3014_T2-Service-Access-and-VocIndex_05.18.2021...                 0.290562\n",
              "2               1020_voc index youth_08.20.2021.docx                 0.290163\n",
              "3             1027_Vineland_VocIndex_02.06.2020.docx                 0.269671\n",
              "4                      1007_VocYouth_01.09.2020.docx                 0.250985"
            ],
            "text/html": [
              "\n",
              "  <div id=\"df-0d7f21cb-bd9f-4543-96fe-d199c2cbdf0c\">\n",
              "    <div class=\"colab-df-container\">\n",
              "      <div>\n",
              "<style scoped>\n",
              "    .dataframe tbody tr th:only-of-type {\n",
              "        vertical-align: middle;\n",
              "    }\n",
              "\n",
              "    .dataframe tbody tr th {\n",
              "        vertical-align: top;\n",
              "    }\n",
              "\n",
              "    .dataframe thead th {\n",
              "        text-align: right;\n",
              "    }\n",
              "</style>\n",
              "<table border=\"1\" class=\"dataframe\">\n",
              "  <thead>\n",
              "    <tr style=\"text-align: right;\">\n",
              "      <th></th>\n",
              "      <th>filename</th>\n",
              "      <th>no_sp_cosine_similarity</th>\n",
              "    </tr>\n",
              "  </thead>\n",
              "  <tbody>\n",
              "    <tr>\n",
              "      <th>0</th>\n",
              "      <td>3009_ Parent 12-Month Follow Up Interview_10.2...</td>\n",
              "      <td>0.319916</td>\n",
              "    </tr>\n",
              "    <tr>\n",
              "      <th>1</th>\n",
              "      <td>3014_T2-Service-Access-and-VocIndex_05.18.2021...</td>\n",
              "      <td>0.290562</td>\n",
              "    </tr>\n",
              "    <tr>\n",
              "      <th>2</th>\n",
              "      <td>1020_voc index youth_08.20.2021.docx</td>\n",
              "      <td>0.290163</td>\n",
              "    </tr>\n",
              "    <tr>\n",
              "      <th>3</th>\n",
              "      <td>1027_Vineland_VocIndex_02.06.2020.docx</td>\n",
              "      <td>0.269671</td>\n",
              "    </tr>\n",
              "    <tr>\n",
              "      <th>4</th>\n",
              "      <td>1007_VocYouth_01.09.2020.docx</td>\n",
              "      <td>0.250985</td>\n",
              "    </tr>\n",
              "  </tbody>\n",
              "</table>\n",
              "</div>\n",
              "      <button class=\"colab-df-convert\" onclick=\"convertToInteractive('df-0d7f21cb-bd9f-4543-96fe-d199c2cbdf0c')\"\n",
              "              title=\"Convert this dataframe to an interactive table.\"\n",
              "              style=\"display:none;\">\n",
              "        \n",
              "  <svg xmlns=\"http://www.w3.org/2000/svg\" height=\"24px\"viewBox=\"0 0 24 24\"\n",
              "       width=\"24px\">\n",
              "    <path d=\"M0 0h24v24H0V0z\" fill=\"none\"/>\n",
              "    <path d=\"M18.56 5.44l.94 2.06.94-2.06 2.06-.94-2.06-.94-.94-2.06-.94 2.06-2.06.94zm-11 1L8.5 8.5l.94-2.06 2.06-.94-2.06-.94L8.5 2.5l-.94 2.06-2.06.94zm10 10l.94 2.06.94-2.06 2.06-.94-2.06-.94-.94-2.06-.94 2.06-2.06.94z\"/><path d=\"M17.41 7.96l-1.37-1.37c-.4-.4-.92-.59-1.43-.59-.52 0-1.04.2-1.43.59L10.3 9.45l-7.72 7.72c-.78.78-.78 2.05 0 2.83L4 21.41c.39.39.9.59 1.41.59.51 0 1.02-.2 1.41-.59l7.78-7.78 2.81-2.81c.8-.78.8-2.07 0-2.86zM5.41 20L4 18.59l7.72-7.72 1.47 1.35L5.41 20z\"/>\n",
              "  </svg>\n",
              "      </button>\n",
              "      \n",
              "  <style>\n",
              "    .colab-df-container {\n",
              "      display:flex;\n",
              "      flex-wrap:wrap;\n",
              "      gap: 12px;\n",
              "    }\n",
              "\n",
              "    .colab-df-convert {\n",
              "      background-color: #E8F0FE;\n",
              "      border: none;\n",
              "      border-radius: 50%;\n",
              "      cursor: pointer;\n",
              "      display: none;\n",
              "      fill: #1967D2;\n",
              "      height: 32px;\n",
              "      padding: 0 0 0 0;\n",
              "      width: 32px;\n",
              "    }\n",
              "\n",
              "    .colab-df-convert:hover {\n",
              "      background-color: #E2EBFA;\n",
              "      box-shadow: 0px 1px 2px rgba(60, 64, 67, 0.3), 0px 1px 3px 1px rgba(60, 64, 67, 0.15);\n",
              "      fill: #174EA6;\n",
              "    }\n",
              "\n",
              "    [theme=dark] .colab-df-convert {\n",
              "      background-color: #3B4455;\n",
              "      fill: #D2E3FC;\n",
              "    }\n",
              "\n",
              "    [theme=dark] .colab-df-convert:hover {\n",
              "      background-color: #434B5C;\n",
              "      box-shadow: 0px 1px 3px 1px rgba(0, 0, 0, 0.15);\n",
              "      filter: drop-shadow(0px 1px 2px rgba(0, 0, 0, 0.3));\n",
              "      fill: #FFFFFF;\n",
              "    }\n",
              "  </style>\n",
              "\n",
              "      <script>\n",
              "        const buttonEl =\n",
              "          document.querySelector('#df-0d7f21cb-bd9f-4543-96fe-d199c2cbdf0c button.colab-df-convert');\n",
              "        buttonEl.style.display =\n",
              "          google.colab.kernel.accessAllowed ? 'block' : 'none';\n",
              "\n",
              "        async function convertToInteractive(key) {\n",
              "          const element = document.querySelector('#df-0d7f21cb-bd9f-4543-96fe-d199c2cbdf0c');\n",
              "          const dataTable =\n",
              "            await google.colab.kernel.invokeFunction('convertToInteractive',\n",
              "                                                     [key], {});\n",
              "          if (!dataTable) return;\n",
              "\n",
              "          const docLinkHtml = 'Like what you see? Visit the ' +\n",
              "            '<a target=\"_blank\" href=https://colab.research.google.com/notebooks/data_table.ipynb>data table notebook</a>'\n",
              "            + ' to learn more about interactive tables.';\n",
              "          element.innerHTML = '';\n",
              "          dataTable['output_type'] = 'display_data';\n",
              "          await google.colab.output.renderOutput(dataTable, element);\n",
              "          const docLink = document.createElement('div');\n",
              "          docLink.innerHTML = docLinkHtml;\n",
              "          element.appendChild(docLink);\n",
              "        }\n",
              "      </script>\n",
              "    </div>\n",
              "  </div>\n",
              "  "
            ]
          },
          "metadata": {},
          "execution_count": 22
        }
      ]
    },
    {
      "cell_type": "code",
      "source": [
        "merge_df = pd.merge(sp_sit_df, no_sp_sit_df, how = 'left')"
      ],
      "metadata": {
        "id": "UtudL04gzQjY"
      },
      "execution_count": null,
      "outputs": []
    },
    {
      "cell_type": "code",
      "source": [
        "merge_df.head()"
      ],
      "metadata": {
        "colab": {
          "base_uri": "https://localhost:8080/",
          "height": 206
        },
        "id": "K_8FeYS3zbah",
        "outputId": "c2116abd-2286-4453-b48b-938c11064c9c"
      },
      "execution_count": null,
      "outputs": [
        {
          "output_type": "execute_result",
          "data": {
            "text/plain": [
              "                                            filename  sp_cosine_similarity  \\\n",
              "0  3009_ Parent 12-Month Follow Up Interview_10.2...              0.304603   \n",
              "1             1027_Vineland_VocIndex_02.06.2020.docx              0.298736   \n",
              "2  3014_T2-Service-Access-and-VocIndex_05.18.2021...              0.286378   \n",
              "3                   1061_Voc_Service_07.23.2020.docx              0.279917   \n",
              "4               1020_voc index youth_08.20.2021.docx              0.279270   \n",
              "\n",
              "   no_sp_cosine_similarity  \n",
              "0                 0.319916  \n",
              "1                 0.269671  \n",
              "2                 0.290562  \n",
              "3                 0.219251  \n",
              "4                 0.290163  "
            ],
            "text/html": [
              "\n",
              "  <div id=\"df-e9cfe746-aa29-463e-ab28-1d73606e39be\">\n",
              "    <div class=\"colab-df-container\">\n",
              "      <div>\n",
              "<style scoped>\n",
              "    .dataframe tbody tr th:only-of-type {\n",
              "        vertical-align: middle;\n",
              "    }\n",
              "\n",
              "    .dataframe tbody tr th {\n",
              "        vertical-align: top;\n",
              "    }\n",
              "\n",
              "    .dataframe thead th {\n",
              "        text-align: right;\n",
              "    }\n",
              "</style>\n",
              "<table border=\"1\" class=\"dataframe\">\n",
              "  <thead>\n",
              "    <tr style=\"text-align: right;\">\n",
              "      <th></th>\n",
              "      <th>filename</th>\n",
              "      <th>sp_cosine_similarity</th>\n",
              "      <th>no_sp_cosine_similarity</th>\n",
              "    </tr>\n",
              "  </thead>\n",
              "  <tbody>\n",
              "    <tr>\n",
              "      <th>0</th>\n",
              "      <td>3009_ Parent 12-Month Follow Up Interview_10.2...</td>\n",
              "      <td>0.304603</td>\n",
              "      <td>0.319916</td>\n",
              "    </tr>\n",
              "    <tr>\n",
              "      <th>1</th>\n",
              "      <td>1027_Vineland_VocIndex_02.06.2020.docx</td>\n",
              "      <td>0.298736</td>\n",
              "      <td>0.269671</td>\n",
              "    </tr>\n",
              "    <tr>\n",
              "      <th>2</th>\n",
              "      <td>3014_T2-Service-Access-and-VocIndex_05.18.2021...</td>\n",
              "      <td>0.286378</td>\n",
              "      <td>0.290562</td>\n",
              "    </tr>\n",
              "    <tr>\n",
              "      <th>3</th>\n",
              "      <td>1061_Voc_Service_07.23.2020.docx</td>\n",
              "      <td>0.279917</td>\n",
              "      <td>0.219251</td>\n",
              "    </tr>\n",
              "    <tr>\n",
              "      <th>4</th>\n",
              "      <td>1020_voc index youth_08.20.2021.docx</td>\n",
              "      <td>0.279270</td>\n",
              "      <td>0.290163</td>\n",
              "    </tr>\n",
              "  </tbody>\n",
              "</table>\n",
              "</div>\n",
              "      <button class=\"colab-df-convert\" onclick=\"convertToInteractive('df-e9cfe746-aa29-463e-ab28-1d73606e39be')\"\n",
              "              title=\"Convert this dataframe to an interactive table.\"\n",
              "              style=\"display:none;\">\n",
              "        \n",
              "  <svg xmlns=\"http://www.w3.org/2000/svg\" height=\"24px\"viewBox=\"0 0 24 24\"\n",
              "       width=\"24px\">\n",
              "    <path d=\"M0 0h24v24H0V0z\" fill=\"none\"/>\n",
              "    <path d=\"M18.56 5.44l.94 2.06.94-2.06 2.06-.94-2.06-.94-.94-2.06-.94 2.06-2.06.94zm-11 1L8.5 8.5l.94-2.06 2.06-.94-2.06-.94L8.5 2.5l-.94 2.06-2.06.94zm10 10l.94 2.06.94-2.06 2.06-.94-2.06-.94-.94-2.06-.94 2.06-2.06.94z\"/><path d=\"M17.41 7.96l-1.37-1.37c-.4-.4-.92-.59-1.43-.59-.52 0-1.04.2-1.43.59L10.3 9.45l-7.72 7.72c-.78.78-.78 2.05 0 2.83L4 21.41c.39.39.9.59 1.41.59.51 0 1.02-.2 1.41-.59l7.78-7.78 2.81-2.81c.8-.78.8-2.07 0-2.86zM5.41 20L4 18.59l7.72-7.72 1.47 1.35L5.41 20z\"/>\n",
              "  </svg>\n",
              "      </button>\n",
              "      \n",
              "  <style>\n",
              "    .colab-df-container {\n",
              "      display:flex;\n",
              "      flex-wrap:wrap;\n",
              "      gap: 12px;\n",
              "    }\n",
              "\n",
              "    .colab-df-convert {\n",
              "      background-color: #E8F0FE;\n",
              "      border: none;\n",
              "      border-radius: 50%;\n",
              "      cursor: pointer;\n",
              "      display: none;\n",
              "      fill: #1967D2;\n",
              "      height: 32px;\n",
              "      padding: 0 0 0 0;\n",
              "      width: 32px;\n",
              "    }\n",
              "\n",
              "    .colab-df-convert:hover {\n",
              "      background-color: #E2EBFA;\n",
              "      box-shadow: 0px 1px 2px rgba(60, 64, 67, 0.3), 0px 1px 3px 1px rgba(60, 64, 67, 0.15);\n",
              "      fill: #174EA6;\n",
              "    }\n",
              "\n",
              "    [theme=dark] .colab-df-convert {\n",
              "      background-color: #3B4455;\n",
              "      fill: #D2E3FC;\n",
              "    }\n",
              "\n",
              "    [theme=dark] .colab-df-convert:hover {\n",
              "      background-color: #434B5C;\n",
              "      box-shadow: 0px 1px 3px 1px rgba(0, 0, 0, 0.15);\n",
              "      filter: drop-shadow(0px 1px 2px rgba(0, 0, 0, 0.3));\n",
              "      fill: #FFFFFF;\n",
              "    }\n",
              "  </style>\n",
              "\n",
              "      <script>\n",
              "        const buttonEl =\n",
              "          document.querySelector('#df-e9cfe746-aa29-463e-ab28-1d73606e39be button.colab-df-convert');\n",
              "        buttonEl.style.display =\n",
              "          google.colab.kernel.accessAllowed ? 'block' : 'none';\n",
              "\n",
              "        async function convertToInteractive(key) {\n",
              "          const element = document.querySelector('#df-e9cfe746-aa29-463e-ab28-1d73606e39be');\n",
              "          const dataTable =\n",
              "            await google.colab.kernel.invokeFunction('convertToInteractive',\n",
              "                                                     [key], {});\n",
              "          if (!dataTable) return;\n",
              "\n",
              "          const docLinkHtml = 'Like what you see? Visit the ' +\n",
              "            '<a target=\"_blank\" href=https://colab.research.google.com/notebooks/data_table.ipynb>data table notebook</a>'\n",
              "            + ' to learn more about interactive tables.';\n",
              "          element.innerHTML = '';\n",
              "          dataTable['output_type'] = 'display_data';\n",
              "          await google.colab.output.renderOutput(dataTable, element);\n",
              "          const docLink = document.createElement('div');\n",
              "          docLink.innerHTML = docLinkHtml;\n",
              "          element.appendChild(docLink);\n",
              "        }\n",
              "      </script>\n",
              "    </div>\n",
              "  </div>\n",
              "  "
            ]
          },
          "metadata": {},
          "execution_count": 24
        }
      ]
    },
    {
      "cell_type": "code",
      "source": [
        "merge_df['difference'] = merge_df['sp_cosine_similarity'] - merge_df['no_sp_cosine_similarity']"
      ],
      "metadata": {
        "id": "sM9yWn4BzvQf"
      },
      "execution_count": null,
      "outputs": []
    },
    {
      "cell_type": "code",
      "source": [
        "merge_df.head()"
      ],
      "metadata": {
        "colab": {
          "base_uri": "https://localhost:8080/",
          "height": 250
        },
        "id": "9wbu3t1Dz-cH",
        "outputId": "0711d7a6-e5d3-4f43-d8ec-f3f5fc8603ae"
      },
      "execution_count": null,
      "outputs": [
        {
          "output_type": "execute_result",
          "data": {
            "text/plain": [
              "                                            filename  sp_cosine_similarity  \\\n",
              "0  3009_ Parent 12-Month Follow Up Interview_10.2...              0.304603   \n",
              "1             1027_Vineland_VocIndex_02.06.2020.docx              0.298736   \n",
              "2  3014_T2-Service-Access-and-VocIndex_05.18.2021...              0.286378   \n",
              "3                   1061_Voc_Service_07.23.2020.docx              0.279917   \n",
              "4               1020_voc index youth_08.20.2021.docx              0.279270   \n",
              "\n",
              "   no_sp_cosine_similarity  difference  \n",
              "0                 0.319916   -0.015313  \n",
              "1                 0.269671    0.029065  \n",
              "2                 0.290562   -0.004184  \n",
              "3                 0.219251    0.060666  \n",
              "4                 0.290163   -0.010893  "
            ],
            "text/html": [
              "\n",
              "  <div id=\"df-4a70264f-d78e-4ec3-9571-22a50f63a922\">\n",
              "    <div class=\"colab-df-container\">\n",
              "      <div>\n",
              "<style scoped>\n",
              "    .dataframe tbody tr th:only-of-type {\n",
              "        vertical-align: middle;\n",
              "    }\n",
              "\n",
              "    .dataframe tbody tr th {\n",
              "        vertical-align: top;\n",
              "    }\n",
              "\n",
              "    .dataframe thead th {\n",
              "        text-align: right;\n",
              "    }\n",
              "</style>\n",
              "<table border=\"1\" class=\"dataframe\">\n",
              "  <thead>\n",
              "    <tr style=\"text-align: right;\">\n",
              "      <th></th>\n",
              "      <th>filename</th>\n",
              "      <th>sp_cosine_similarity</th>\n",
              "      <th>no_sp_cosine_similarity</th>\n",
              "      <th>difference</th>\n",
              "    </tr>\n",
              "  </thead>\n",
              "  <tbody>\n",
              "    <tr>\n",
              "      <th>0</th>\n",
              "      <td>3009_ Parent 12-Month Follow Up Interview_10.2...</td>\n",
              "      <td>0.304603</td>\n",
              "      <td>0.319916</td>\n",
              "      <td>-0.015313</td>\n",
              "    </tr>\n",
              "    <tr>\n",
              "      <th>1</th>\n",
              "      <td>1027_Vineland_VocIndex_02.06.2020.docx</td>\n",
              "      <td>0.298736</td>\n",
              "      <td>0.269671</td>\n",
              "      <td>0.029065</td>\n",
              "    </tr>\n",
              "    <tr>\n",
              "      <th>2</th>\n",
              "      <td>3014_T2-Service-Access-and-VocIndex_05.18.2021...</td>\n",
              "      <td>0.286378</td>\n",
              "      <td>0.290562</td>\n",
              "      <td>-0.004184</td>\n",
              "    </tr>\n",
              "    <tr>\n",
              "      <th>3</th>\n",
              "      <td>1061_Voc_Service_07.23.2020.docx</td>\n",
              "      <td>0.279917</td>\n",
              "      <td>0.219251</td>\n",
              "      <td>0.060666</td>\n",
              "    </tr>\n",
              "    <tr>\n",
              "      <th>4</th>\n",
              "      <td>1020_voc index youth_08.20.2021.docx</td>\n",
              "      <td>0.279270</td>\n",
              "      <td>0.290163</td>\n",
              "      <td>-0.010893</td>\n",
              "    </tr>\n",
              "  </tbody>\n",
              "</table>\n",
              "</div>\n",
              "      <button class=\"colab-df-convert\" onclick=\"convertToInteractive('df-4a70264f-d78e-4ec3-9571-22a50f63a922')\"\n",
              "              title=\"Convert this dataframe to an interactive table.\"\n",
              "              style=\"display:none;\">\n",
              "        \n",
              "  <svg xmlns=\"http://www.w3.org/2000/svg\" height=\"24px\"viewBox=\"0 0 24 24\"\n",
              "       width=\"24px\">\n",
              "    <path d=\"M0 0h24v24H0V0z\" fill=\"none\"/>\n",
              "    <path d=\"M18.56 5.44l.94 2.06.94-2.06 2.06-.94-2.06-.94-.94-2.06-.94 2.06-2.06.94zm-11 1L8.5 8.5l.94-2.06 2.06-.94-2.06-.94L8.5 2.5l-.94 2.06-2.06.94zm10 10l.94 2.06.94-2.06 2.06-.94-2.06-.94-.94-2.06-.94 2.06-2.06.94z\"/><path d=\"M17.41 7.96l-1.37-1.37c-.4-.4-.92-.59-1.43-.59-.52 0-1.04.2-1.43.59L10.3 9.45l-7.72 7.72c-.78.78-.78 2.05 0 2.83L4 21.41c.39.39.9.59 1.41.59.51 0 1.02-.2 1.41-.59l7.78-7.78 2.81-2.81c.8-.78.8-2.07 0-2.86zM5.41 20L4 18.59l7.72-7.72 1.47 1.35L5.41 20z\"/>\n",
              "  </svg>\n",
              "      </button>\n",
              "      \n",
              "  <style>\n",
              "    .colab-df-container {\n",
              "      display:flex;\n",
              "      flex-wrap:wrap;\n",
              "      gap: 12px;\n",
              "    }\n",
              "\n",
              "    .colab-df-convert {\n",
              "      background-color: #E8F0FE;\n",
              "      border: none;\n",
              "      border-radius: 50%;\n",
              "      cursor: pointer;\n",
              "      display: none;\n",
              "      fill: #1967D2;\n",
              "      height: 32px;\n",
              "      padding: 0 0 0 0;\n",
              "      width: 32px;\n",
              "    }\n",
              "\n",
              "    .colab-df-convert:hover {\n",
              "      background-color: #E2EBFA;\n",
              "      box-shadow: 0px 1px 2px rgba(60, 64, 67, 0.3), 0px 1px 3px 1px rgba(60, 64, 67, 0.15);\n",
              "      fill: #174EA6;\n",
              "    }\n",
              "\n",
              "    [theme=dark] .colab-df-convert {\n",
              "      background-color: #3B4455;\n",
              "      fill: #D2E3FC;\n",
              "    }\n",
              "\n",
              "    [theme=dark] .colab-df-convert:hover {\n",
              "      background-color: #434B5C;\n",
              "      box-shadow: 0px 1px 3px 1px rgba(0, 0, 0, 0.15);\n",
              "      filter: drop-shadow(0px 1px 2px rgba(0, 0, 0, 0.3));\n",
              "      fill: #FFFFFF;\n",
              "    }\n",
              "  </style>\n",
              "\n",
              "      <script>\n",
              "        const buttonEl =\n",
              "          document.querySelector('#df-4a70264f-d78e-4ec3-9571-22a50f63a922 button.colab-df-convert');\n",
              "        buttonEl.style.display =\n",
              "          google.colab.kernel.accessAllowed ? 'block' : 'none';\n",
              "\n",
              "        async function convertToInteractive(key) {\n",
              "          const element = document.querySelector('#df-4a70264f-d78e-4ec3-9571-22a50f63a922');\n",
              "          const dataTable =\n",
              "            await google.colab.kernel.invokeFunction('convertToInteractive',\n",
              "                                                     [key], {});\n",
              "          if (!dataTable) return;\n",
              "\n",
              "          const docLinkHtml = 'Like what you see? Visit the ' +\n",
              "            '<a target=\"_blank\" href=https://colab.research.google.com/notebooks/data_table.ipynb>data table notebook</a>'\n",
              "            + ' to learn more about interactive tables.';\n",
              "          element.innerHTML = '';\n",
              "          dataTable['output_type'] = 'display_data';\n",
              "          await google.colab.output.renderOutput(dataTable, element);\n",
              "          const docLink = document.createElement('div');\n",
              "          docLink.innerHTML = docLinkHtml;\n",
              "          element.appendChild(docLink);\n",
              "        }\n",
              "      </script>\n",
              "    </div>\n",
              "  </div>\n",
              "  "
            ]
          },
          "metadata": {},
          "execution_count": 26
        }
      ]
    },
    {
      "cell_type": "code",
      "source": [
        "conditions = [(merge_df['sp_cosine_similarity'] * merge_df['no_sp_cosine_similarity'] > 0),\n",
        "              (merge_df['sp_cosine_similarity'] * merge_df['no_sp_cosine_similarity'] < 0)]\n",
        "values = ['same', 'different']"
      ],
      "metadata": {
        "id": "y17_eb8x0YNh"
      },
      "execution_count": null,
      "outputs": []
    },
    {
      "cell_type": "code",
      "source": [
        "merge_df['direction'] = np.select(conditions, values)"
      ],
      "metadata": {
        "id": "CvToTWSkz_Qf"
      },
      "execution_count": null,
      "outputs": []
    },
    {
      "cell_type": "code",
      "source": [
        "merge_df.to_csv('compare_cosine_similarity_speaker_noSpeaker.csv')"
      ],
      "metadata": {
        "id": "vnqKyPoRadbg"
      },
      "execution_count": null,
      "outputs": []
    },
    {
      "cell_type": "code",
      "source": [
        "merge_df[merge_df['direction'] == 'different']"
      ],
      "metadata": {
        "colab": {
          "base_uri": "https://localhost:8080/",
          "height": 615
        },
        "id": "cnJoC7Gi070H",
        "outputId": "20c50daf-7559-44c3-bbeb-7bca2a164ee3"
      },
      "execution_count": null,
      "outputs": [
        {
          "output_type": "execute_result",
          "data": {
            "text/plain": [
              "                                    filename  sp_cosine_similarity  \\\n",
              "213              2059_Parent_11.03.2021.docx              0.055363   \n",
              "231              2054_Parent_11.02.2021.docx              0.039914   \n",
              "239           1021_voc index_09.09.2021.docx              0.025822   \n",
              "251           1012_voc index_01.07.2020.docx              0.012224   \n",
              "257            2060_VocIndex_07.27.2020.docx              0.004352   \n",
              "258           2024_Voc Index_01.28.2021.docx              0.003988   \n",
              "261  1059_VocParent_VocYouth_07.23.2020.docx             -0.000308   \n",
              "263           1018_voc index_01.06.2021.docx             -0.001919   \n",
              "265           1050_voc index_10.22.2021.docx             -0.003394   \n",
              "267            2043_VocIndex_07.21.2020.docx             -0.005219   \n",
              "268            2005_VocIndex_02.17.2021.docx             -0.007524   \n",
              "270           1062_voc index_06.03.2021.docx             -0.012670   \n",
              "273           1065_voc index_05.06.2021.docx             -0.016506   \n",
              "280              2057_parent_11.01.2021.docx             -0.026620   \n",
              "282   3024_checkin1interview_05.04.2021.docx             -0.030371   \n",
              "289           3033-Interview-04.29.2021.docx             -0.056675   \n",
              "\n",
              "     no_sp_cosine_similarity  difference  direction  \n",
              "213                -0.005697    0.061060  different  \n",
              "231                -0.016667    0.056581  different  \n",
              "239                -0.005326    0.031148  different  \n",
              "251                -0.006137    0.018361  different  \n",
              "257                -0.025121    0.029472  different  \n",
              "258                -0.012293    0.016282  different  \n",
              "261                 0.048255   -0.048563  different  \n",
              "263                 0.048195   -0.050114  different  \n",
              "265                 0.048324   -0.051719  different  \n",
              "267                 0.014288   -0.019507  different  \n",
              "268                 0.004337   -0.011862  different  \n",
              "270                 0.006636   -0.019305  different  \n",
              "273                 0.028419   -0.044925  different  \n",
              "280                 0.041511   -0.068131  different  \n",
              "282                 0.047165   -0.077536  different  \n",
              "289                 0.000384   -0.057059  different  "
            ],
            "text/html": [
              "\n",
              "  <div id=\"df-bad63645-b9b8-47f1-bc5d-6541903bbfd6\">\n",
              "    <div class=\"colab-df-container\">\n",
              "      <div>\n",
              "<style scoped>\n",
              "    .dataframe tbody tr th:only-of-type {\n",
              "        vertical-align: middle;\n",
              "    }\n",
              "\n",
              "    .dataframe tbody tr th {\n",
              "        vertical-align: top;\n",
              "    }\n",
              "\n",
              "    .dataframe thead th {\n",
              "        text-align: right;\n",
              "    }\n",
              "</style>\n",
              "<table border=\"1\" class=\"dataframe\">\n",
              "  <thead>\n",
              "    <tr style=\"text-align: right;\">\n",
              "      <th></th>\n",
              "      <th>filename</th>\n",
              "      <th>sp_cosine_similarity</th>\n",
              "      <th>no_sp_cosine_similarity</th>\n",
              "      <th>difference</th>\n",
              "      <th>direction</th>\n",
              "    </tr>\n",
              "  </thead>\n",
              "  <tbody>\n",
              "    <tr>\n",
              "      <th>213</th>\n",
              "      <td>2059_Parent_11.03.2021.docx</td>\n",
              "      <td>0.055363</td>\n",
              "      <td>-0.005697</td>\n",
              "      <td>0.061060</td>\n",
              "      <td>different</td>\n",
              "    </tr>\n",
              "    <tr>\n",
              "      <th>231</th>\n",
              "      <td>2054_Parent_11.02.2021.docx</td>\n",
              "      <td>0.039914</td>\n",
              "      <td>-0.016667</td>\n",
              "      <td>0.056581</td>\n",
              "      <td>different</td>\n",
              "    </tr>\n",
              "    <tr>\n",
              "      <th>239</th>\n",
              "      <td>1021_voc index_09.09.2021.docx</td>\n",
              "      <td>0.025822</td>\n",
              "      <td>-0.005326</td>\n",
              "      <td>0.031148</td>\n",
              "      <td>different</td>\n",
              "    </tr>\n",
              "    <tr>\n",
              "      <th>251</th>\n",
              "      <td>1012_voc index_01.07.2020.docx</td>\n",
              "      <td>0.012224</td>\n",
              "      <td>-0.006137</td>\n",
              "      <td>0.018361</td>\n",
              "      <td>different</td>\n",
              "    </tr>\n",
              "    <tr>\n",
              "      <th>257</th>\n",
              "      <td>2060_VocIndex_07.27.2020.docx</td>\n",
              "      <td>0.004352</td>\n",
              "      <td>-0.025121</td>\n",
              "      <td>0.029472</td>\n",
              "      <td>different</td>\n",
              "    </tr>\n",
              "    <tr>\n",
              "      <th>258</th>\n",
              "      <td>2024_Voc Index_01.28.2021.docx</td>\n",
              "      <td>0.003988</td>\n",
              "      <td>-0.012293</td>\n",
              "      <td>0.016282</td>\n",
              "      <td>different</td>\n",
              "    </tr>\n",
              "    <tr>\n",
              "      <th>261</th>\n",
              "      <td>1059_VocParent_VocYouth_07.23.2020.docx</td>\n",
              "      <td>-0.000308</td>\n",
              "      <td>0.048255</td>\n",
              "      <td>-0.048563</td>\n",
              "      <td>different</td>\n",
              "    </tr>\n",
              "    <tr>\n",
              "      <th>263</th>\n",
              "      <td>1018_voc index_01.06.2021.docx</td>\n",
              "      <td>-0.001919</td>\n",
              "      <td>0.048195</td>\n",
              "      <td>-0.050114</td>\n",
              "      <td>different</td>\n",
              "    </tr>\n",
              "    <tr>\n",
              "      <th>265</th>\n",
              "      <td>1050_voc index_10.22.2021.docx</td>\n",
              "      <td>-0.003394</td>\n",
              "      <td>0.048324</td>\n",
              "      <td>-0.051719</td>\n",
              "      <td>different</td>\n",
              "    </tr>\n",
              "    <tr>\n",
              "      <th>267</th>\n",
              "      <td>2043_VocIndex_07.21.2020.docx</td>\n",
              "      <td>-0.005219</td>\n",
              "      <td>0.014288</td>\n",
              "      <td>-0.019507</td>\n",
              "      <td>different</td>\n",
              "    </tr>\n",
              "    <tr>\n",
              "      <th>268</th>\n",
              "      <td>2005_VocIndex_02.17.2021.docx</td>\n",
              "      <td>-0.007524</td>\n",
              "      <td>0.004337</td>\n",
              "      <td>-0.011862</td>\n",
              "      <td>different</td>\n",
              "    </tr>\n",
              "    <tr>\n",
              "      <th>270</th>\n",
              "      <td>1062_voc index_06.03.2021.docx</td>\n",
              "      <td>-0.012670</td>\n",
              "      <td>0.006636</td>\n",
              "      <td>-0.019305</td>\n",
              "      <td>different</td>\n",
              "    </tr>\n",
              "    <tr>\n",
              "      <th>273</th>\n",
              "      <td>1065_voc index_05.06.2021.docx</td>\n",
              "      <td>-0.016506</td>\n",
              "      <td>0.028419</td>\n",
              "      <td>-0.044925</td>\n",
              "      <td>different</td>\n",
              "    </tr>\n",
              "    <tr>\n",
              "      <th>280</th>\n",
              "      <td>2057_parent_11.01.2021.docx</td>\n",
              "      <td>-0.026620</td>\n",
              "      <td>0.041511</td>\n",
              "      <td>-0.068131</td>\n",
              "      <td>different</td>\n",
              "    </tr>\n",
              "    <tr>\n",
              "      <th>282</th>\n",
              "      <td>3024_checkin1interview_05.04.2021.docx</td>\n",
              "      <td>-0.030371</td>\n",
              "      <td>0.047165</td>\n",
              "      <td>-0.077536</td>\n",
              "      <td>different</td>\n",
              "    </tr>\n",
              "    <tr>\n",
              "      <th>289</th>\n",
              "      <td>3033-Interview-04.29.2021.docx</td>\n",
              "      <td>-0.056675</td>\n",
              "      <td>0.000384</td>\n",
              "      <td>-0.057059</td>\n",
              "      <td>different</td>\n",
              "    </tr>\n",
              "  </tbody>\n",
              "</table>\n",
              "</div>\n",
              "      <button class=\"colab-df-convert\" onclick=\"convertToInteractive('df-bad63645-b9b8-47f1-bc5d-6541903bbfd6')\"\n",
              "              title=\"Convert this dataframe to an interactive table.\"\n",
              "              style=\"display:none;\">\n",
              "        \n",
              "  <svg xmlns=\"http://www.w3.org/2000/svg\" height=\"24px\"viewBox=\"0 0 24 24\"\n",
              "       width=\"24px\">\n",
              "    <path d=\"M0 0h24v24H0V0z\" fill=\"none\"/>\n",
              "    <path d=\"M18.56 5.44l.94 2.06.94-2.06 2.06-.94-2.06-.94-.94-2.06-.94 2.06-2.06.94zm-11 1L8.5 8.5l.94-2.06 2.06-.94-2.06-.94L8.5 2.5l-.94 2.06-2.06.94zm10 10l.94 2.06.94-2.06 2.06-.94-2.06-.94-.94-2.06-.94 2.06-2.06.94z\"/><path d=\"M17.41 7.96l-1.37-1.37c-.4-.4-.92-.59-1.43-.59-.52 0-1.04.2-1.43.59L10.3 9.45l-7.72 7.72c-.78.78-.78 2.05 0 2.83L4 21.41c.39.39.9.59 1.41.59.51 0 1.02-.2 1.41-.59l7.78-7.78 2.81-2.81c.8-.78.8-2.07 0-2.86zM5.41 20L4 18.59l7.72-7.72 1.47 1.35L5.41 20z\"/>\n",
              "  </svg>\n",
              "      </button>\n",
              "      \n",
              "  <style>\n",
              "    .colab-df-container {\n",
              "      display:flex;\n",
              "      flex-wrap:wrap;\n",
              "      gap: 12px;\n",
              "    }\n",
              "\n",
              "    .colab-df-convert {\n",
              "      background-color: #E8F0FE;\n",
              "      border: none;\n",
              "      border-radius: 50%;\n",
              "      cursor: pointer;\n",
              "      display: none;\n",
              "      fill: #1967D2;\n",
              "      height: 32px;\n",
              "      padding: 0 0 0 0;\n",
              "      width: 32px;\n",
              "    }\n",
              "\n",
              "    .colab-df-convert:hover {\n",
              "      background-color: #E2EBFA;\n",
              "      box-shadow: 0px 1px 2px rgba(60, 64, 67, 0.3), 0px 1px 3px 1px rgba(60, 64, 67, 0.15);\n",
              "      fill: #174EA6;\n",
              "    }\n",
              "\n",
              "    [theme=dark] .colab-df-convert {\n",
              "      background-color: #3B4455;\n",
              "      fill: #D2E3FC;\n",
              "    }\n",
              "\n",
              "    [theme=dark] .colab-df-convert:hover {\n",
              "      background-color: #434B5C;\n",
              "      box-shadow: 0px 1px 3px 1px rgba(0, 0, 0, 0.15);\n",
              "      filter: drop-shadow(0px 1px 2px rgba(0, 0, 0, 0.3));\n",
              "      fill: #FFFFFF;\n",
              "    }\n",
              "  </style>\n",
              "\n",
              "      <script>\n",
              "        const buttonEl =\n",
              "          document.querySelector('#df-bad63645-b9b8-47f1-bc5d-6541903bbfd6 button.colab-df-convert');\n",
              "        buttonEl.style.display =\n",
              "          google.colab.kernel.accessAllowed ? 'block' : 'none';\n",
              "\n",
              "        async function convertToInteractive(key) {\n",
              "          const element = document.querySelector('#df-bad63645-b9b8-47f1-bc5d-6541903bbfd6');\n",
              "          const dataTable =\n",
              "            await google.colab.kernel.invokeFunction('convertToInteractive',\n",
              "                                                     [key], {});\n",
              "          if (!dataTable) return;\n",
              "\n",
              "          const docLinkHtml = 'Like what you see? Visit the ' +\n",
              "            '<a target=\"_blank\" href=https://colab.research.google.com/notebooks/data_table.ipynb>data table notebook</a>'\n",
              "            + ' to learn more about interactive tables.';\n",
              "          element.innerHTML = '';\n",
              "          dataTable['output_type'] = 'display_data';\n",
              "          await google.colab.output.renderOutput(dataTable, element);\n",
              "          const docLink = document.createElement('div');\n",
              "          docLink.innerHTML = docLinkHtml;\n",
              "          element.appendChild(docLink);\n",
              "        }\n",
              "      </script>\n",
              "    </div>\n",
              "  </div>\n",
              "  "
            ]
          },
          "metadata": {},
          "execution_count": 30
        }
      ]
    },
    {
      "cell_type": "code",
      "source": [
        "max(merge_df['sp_cosine_similarity'].tolist())"
      ],
      "metadata": {
        "colab": {
          "base_uri": "https://localhost:8080/"
        },
        "id": "qt_DcSmazTD-",
        "outputId": "e6e305fe-ee60-46df-c125-fa734c7037dd"
      },
      "execution_count": null,
      "outputs": [
        {
          "output_type": "execute_result",
          "data": {
            "text/plain": [
              "0.3046026360175703"
            ]
          },
          "metadata": {},
          "execution_count": 31
        }
      ]
    },
    {
      "cell_type": "code",
      "source": [
        "min(merge_df['sp_cosine_similarity'].tolist())"
      ],
      "metadata": {
        "colab": {
          "base_uri": "https://localhost:8080/"
        },
        "id": "-tmbISy1zdAq",
        "outputId": "db98830f-fb9b-4daa-fbe7-b033f28b9ceb"
      },
      "execution_count": null,
      "outputs": [
        {
          "output_type": "execute_result",
          "data": {
            "text/plain": [
              "-0.0824197696356083"
            ]
          },
          "metadata": {},
          "execution_count": 32
        }
      ]
    },
    {
      "cell_type": "code",
      "source": [
        "diff = merge_df[merge_df['direction'] == 'different']\n",
        "same = merge_df[merge_df['direction'] != 'different']"
      ],
      "metadata": {
        "id": "EUUhtM0oCPWO"
      },
      "execution_count": null,
      "outputs": []
    },
    {
      "cell_type": "code",
      "source": [
        "diff.shape[0] / (diff.shape[0] + same.shape[0]) *100"
      ],
      "metadata": {
        "colab": {
          "base_uri": "https://localhost:8080/"
        },
        "id": "YIWAIgObCXIK",
        "outputId": "175ba316-ddaa-44cc-d608-e12d502bf89d"
      },
      "execution_count": null,
      "outputs": [
        {
          "output_type": "execute_result",
          "data": {
            "text/plain": [
              "5.460750853242321"
            ]
          },
          "metadata": {},
          "execution_count": 34
        }
      ]
    },
    {
      "cell_type": "code",
      "source": [
        "import matplotlib.pyplot as plt \n",
        "merge_df.hist(column = ['difference'], bins = 30)\n",
        "plt.xlabel('difference')\n",
        "plt.title('Cosine similarity(speaker:self-determination) - Cosine Similarity(non-speaker:self-determination')"
      ],
      "metadata": {
        "colab": {
          "base_uri": "https://localhost:8080/",
          "height": 333
        },
        "id": "X7e3uUSH1RAg",
        "outputId": "dc2dc49e-942e-4f1f-bee5-66d33aeeb49c"
      },
      "execution_count": null,
      "outputs": [
        {
          "output_type": "execute_result",
          "data": {
            "text/plain": [
              "Text(0.5, 1.0, 'Cosine similarity(speaker:self-determination) - Cosine Similarity(non-speaker:self-determination')"
            ]
          },
          "metadata": {},
          "execution_count": 50
        },
        {
          "output_type": "display_data",
          "data": {
            "text/plain": [
              "<Figure size 432x288 with 1 Axes>"
            ],
            "image/png": "[encoded data removed]"
          },
          "metadata": {
            "needs_background": "light"
          }
        }
      ]
    }
  ]
}